{
 "cells": [
  {
   "cell_type": "markdown",
   "metadata": {},
   "source": [
    "# Global Temperature Rise - China"
   ]
  },
  {
   "cell_type": "markdown",
   "metadata": {},
   "source": [
    "This notebook will do some analysis on the **GlobalTemperatureRise** dataset and find out how average temperature in **China** have changed over the years."
   ]
  },
  {
   "cell_type": "code",
   "execution_count": 1,
   "metadata": {},
   "outputs": [],
   "source": [
    "import numpy as np\n",
    "import pandas as pd\n",
    "import matplotlib.pyplot as plt\n",
    "import seaborn as sns"
   ]
  },
  {
   "cell_type": "code",
   "execution_count": 2,
   "metadata": {},
   "outputs": [],
   "source": [
    "df = pd.read_csv('GlobalLandTemperaturesByCountry.csv')"
   ]
  },
  {
   "cell_type": "code",
   "execution_count": 3,
   "metadata": {},
   "outputs": [
    {
     "data": {
      "text/html": [
       "<div>\n",
       "<style scoped>\n",
       "    .dataframe tbody tr th:only-of-type {\n",
       "        vertical-align: middle;\n",
       "    }\n",
       "\n",
       "    .dataframe tbody tr th {\n",
       "        vertical-align: top;\n",
       "    }\n",
       "\n",
       "    .dataframe thead th {\n",
       "        text-align: right;\n",
       "    }\n",
       "</style>\n",
       "<table border=\"1\" class=\"dataframe\">\n",
       "  <thead>\n",
       "    <tr style=\"text-align: right;\">\n",
       "      <th></th>\n",
       "      <th>dt</th>\n",
       "      <th>AverageTemperature</th>\n",
       "      <th>AverageTemperatureUncertainty</th>\n",
       "      <th>Country</th>\n",
       "    </tr>\n",
       "  </thead>\n",
       "  <tbody>\n",
       "    <tr>\n",
       "      <th>0</th>\n",
       "      <td>1743-11-01</td>\n",
       "      <td>4.384</td>\n",
       "      <td>2.294</td>\n",
       "      <td>Åland</td>\n",
       "    </tr>\n",
       "    <tr>\n",
       "      <th>1</th>\n",
       "      <td>1743-12-01</td>\n",
       "      <td>NaN</td>\n",
       "      <td>NaN</td>\n",
       "      <td>Åland</td>\n",
       "    </tr>\n",
       "    <tr>\n",
       "      <th>2</th>\n",
       "      <td>1744-01-01</td>\n",
       "      <td>NaN</td>\n",
       "      <td>NaN</td>\n",
       "      <td>Åland</td>\n",
       "    </tr>\n",
       "    <tr>\n",
       "      <th>3</th>\n",
       "      <td>1744-02-01</td>\n",
       "      <td>NaN</td>\n",
       "      <td>NaN</td>\n",
       "      <td>Åland</td>\n",
       "    </tr>\n",
       "    <tr>\n",
       "      <th>4</th>\n",
       "      <td>1744-03-01</td>\n",
       "      <td>NaN</td>\n",
       "      <td>NaN</td>\n",
       "      <td>Åland</td>\n",
       "    </tr>\n",
       "    <tr>\n",
       "      <th>5</th>\n",
       "      <td>1744-04-01</td>\n",
       "      <td>1.530</td>\n",
       "      <td>4.680</td>\n",
       "      <td>Åland</td>\n",
       "    </tr>\n",
       "    <tr>\n",
       "      <th>6</th>\n",
       "      <td>1744-05-01</td>\n",
       "      <td>6.702</td>\n",
       "      <td>1.789</td>\n",
       "      <td>Åland</td>\n",
       "    </tr>\n",
       "    <tr>\n",
       "      <th>7</th>\n",
       "      <td>1744-06-01</td>\n",
       "      <td>11.609</td>\n",
       "      <td>1.577</td>\n",
       "      <td>Åland</td>\n",
       "    </tr>\n",
       "    <tr>\n",
       "      <th>8</th>\n",
       "      <td>1744-07-01</td>\n",
       "      <td>15.342</td>\n",
       "      <td>1.410</td>\n",
       "      <td>Åland</td>\n",
       "    </tr>\n",
       "    <tr>\n",
       "      <th>9</th>\n",
       "      <td>1744-08-01</td>\n",
       "      <td>NaN</td>\n",
       "      <td>NaN</td>\n",
       "      <td>Åland</td>\n",
       "    </tr>\n",
       "    <tr>\n",
       "      <th>10</th>\n",
       "      <td>1744-09-01</td>\n",
       "      <td>11.702</td>\n",
       "      <td>1.517</td>\n",
       "      <td>Åland</td>\n",
       "    </tr>\n",
       "    <tr>\n",
       "      <th>11</th>\n",
       "      <td>1744-10-01</td>\n",
       "      <td>5.477</td>\n",
       "      <td>1.862</td>\n",
       "      <td>Åland</td>\n",
       "    </tr>\n",
       "    <tr>\n",
       "      <th>12</th>\n",
       "      <td>1744-11-01</td>\n",
       "      <td>3.407</td>\n",
       "      <td>1.425</td>\n",
       "      <td>Åland</td>\n",
       "    </tr>\n",
       "    <tr>\n",
       "      <th>13</th>\n",
       "      <td>1744-12-01</td>\n",
       "      <td>-2.181</td>\n",
       "      <td>1.641</td>\n",
       "      <td>Åland</td>\n",
       "    </tr>\n",
       "  </tbody>\n",
       "</table>\n",
       "</div>"
      ],
      "text/plain": [
       "            dt  AverageTemperature  AverageTemperatureUncertainty Country\n",
       "0   1743-11-01               4.384                          2.294   Åland\n",
       "1   1743-12-01                 NaN                            NaN   Åland\n",
       "2   1744-01-01                 NaN                            NaN   Åland\n",
       "3   1744-02-01                 NaN                            NaN   Åland\n",
       "4   1744-03-01                 NaN                            NaN   Åland\n",
       "5   1744-04-01               1.530                          4.680   Åland\n",
       "6   1744-05-01               6.702                          1.789   Åland\n",
       "7   1744-06-01              11.609                          1.577   Åland\n",
       "8   1744-07-01              15.342                          1.410   Åland\n",
       "9   1744-08-01                 NaN                            NaN   Åland\n",
       "10  1744-09-01              11.702                          1.517   Åland\n",
       "11  1744-10-01               5.477                          1.862   Åland\n",
       "12  1744-11-01               3.407                          1.425   Åland\n",
       "13  1744-12-01              -2.181                          1.641   Åland"
      ]
     },
     "execution_count": 3,
     "metadata": {},
     "output_type": "execute_result"
    }
   ],
   "source": [
    "df.head(14)"
   ]
  },
  {
   "cell_type": "code",
   "execution_count": 4,
   "metadata": {
    "scrolled": true
   },
   "outputs": [
    {
     "data": {
      "text/plain": [
       "array(['Åland', 'Afghanistan', 'Africa', 'Albania', 'Algeria',\n",
       "       'American Samoa', 'Andorra', 'Angola', 'Anguilla', 'Antarctica',\n",
       "       'Antigua And Barbuda', 'Argentina', 'Armenia', 'Aruba', 'Asia',\n",
       "       'Australia', 'Austria', 'Azerbaijan', 'Bahamas', 'Bahrain',\n",
       "       'Baker Island', 'Bangladesh', 'Barbados', 'Belarus', 'Belgium',\n",
       "       'Belize', 'Benin', 'Bhutan', 'Bolivia',\n",
       "       'Bonaire, Saint Eustatius And Saba', 'Bosnia And Herzegovina',\n",
       "       'Botswana', 'Brazil', 'British Virgin Islands', 'Bulgaria',\n",
       "       'Burkina Faso', 'Burma', 'Burundi', \"Côte D'Ivoire\", 'Cambodia',\n",
       "       'Cameroon', 'Canada', 'Cape Verde', 'Cayman Islands',\n",
       "       'Central African Republic', 'Chad', 'Chile', 'China',\n",
       "       'Christmas Island', 'Colombia', 'Comoros',\n",
       "       'Congo (Democratic Republic Of The)', 'Congo', 'Costa Rica',\n",
       "       'Croatia', 'Cuba', 'Curaçao', 'Cyprus', 'Czech Republic',\n",
       "       'Denmark (Europe)', 'Denmark', 'Djibouti', 'Dominica',\n",
       "       'Dominican Republic', 'Ecuador', 'Egypt', 'El Salvador',\n",
       "       'Equatorial Guinea', 'Eritrea', 'Estonia', 'Ethiopia', 'Europe',\n",
       "       'Falkland Islands (Islas Malvinas)', 'Faroe Islands',\n",
       "       'Federated States Of Micronesia', 'Fiji', 'Finland',\n",
       "       'France (Europe)', 'France', 'French Guiana', 'French Polynesia',\n",
       "       'French Southern And Antarctic Lands', 'Gabon', 'Gambia',\n",
       "       'Gaza Strip', 'Georgia', 'Germany', 'Ghana', 'Greece', 'Greenland',\n",
       "       'Grenada', 'Guadeloupe', 'Guam', 'Guatemala', 'Guernsey',\n",
       "       'Guinea Bissau', 'Guinea', 'Guyana', 'Haiti',\n",
       "       'Heard Island And Mcdonald Islands', 'Honduras', 'Hong Kong',\n",
       "       'Hungary', 'Iceland', 'India', 'Indonesia', 'Iran', 'Iraq',\n",
       "       'Ireland', 'Isle Of Man', 'Israel', 'Italy', 'Jamaica', 'Japan',\n",
       "       'Jersey', 'Jordan', 'Kazakhstan', 'Kenya', 'Kingman Reef',\n",
       "       'Kiribati', 'Kuwait', 'Kyrgyzstan', 'Laos', 'Latvia', 'Lebanon',\n",
       "       'Lesotho', 'Liberia', 'Libya', 'Liechtenstein', 'Lithuania',\n",
       "       'Luxembourg', 'Macau', 'Macedonia', 'Madagascar', 'Malawi',\n",
       "       'Malaysia', 'Mali', 'Malta', 'Martinique', 'Mauritania',\n",
       "       'Mauritius', 'Mayotte', 'Mexico', 'Moldova', 'Monaco', 'Mongolia',\n",
       "       'Montenegro', 'Montserrat', 'Morocco', 'Mozambique', 'Namibia',\n",
       "       'Nepal', 'Netherlands (Europe)', 'Netherlands', 'New Caledonia',\n",
       "       'New Zealand', 'Nicaragua', 'Niger', 'Nigeria', 'Niue',\n",
       "       'North America', 'North Korea', 'Northern Mariana Islands',\n",
       "       'Norway', 'Oceania', 'Oman', 'Pakistan', 'Palau', 'Palestina',\n",
       "       'Palmyra Atoll', 'Panama', 'Papua New Guinea', 'Paraguay', 'Peru',\n",
       "       'Philippines', 'Poland', 'Portugal', 'Puerto Rico', 'Qatar',\n",
       "       'Reunion', 'Romania', 'Russia', 'Rwanda', 'Saint Barthélemy',\n",
       "       'Saint Kitts And Nevis', 'Saint Lucia', 'Saint Martin',\n",
       "       'Saint Pierre And Miquelon', 'Saint Vincent And The Grenadines',\n",
       "       'Samoa', 'San Marino', 'Sao Tome And Principe', 'Saudi Arabia',\n",
       "       'Senegal', 'Serbia', 'Seychelles', 'Sierra Leone', 'Singapore',\n",
       "       'Sint Maarten', 'Slovakia', 'Slovenia', 'Solomon Islands',\n",
       "       'Somalia', 'South Africa', 'South America',\n",
       "       'South Georgia And The South Sandwich Isla', 'South Korea',\n",
       "       'Spain', 'Sri Lanka', 'Sudan', 'Suriname',\n",
       "       'Svalbard And Jan Mayen', 'Swaziland', 'Sweden', 'Switzerland',\n",
       "       'Syria', 'Taiwan', 'Tajikistan', 'Tanzania', 'Thailand',\n",
       "       'Timor Leste', 'Togo', 'Tonga', 'Trinidad And Tobago', 'Tunisia',\n",
       "       'Turkey', 'Turkmenistan', 'Turks And Caicas Islands', 'Uganda',\n",
       "       'Ukraine', 'United Arab Emirates', 'United Kingdom (Europe)',\n",
       "       'United Kingdom', 'United States', 'Uruguay', 'Uzbekistan',\n",
       "       'Venezuela', 'Vietnam', 'Virgin Islands', 'Western Sahara',\n",
       "       'Yemen', 'Zambia', 'Zimbabwe'], dtype=object)"
      ]
     },
     "execution_count": 4,
     "metadata": {},
     "output_type": "execute_result"
    }
   ],
   "source": [
    "df['Country'].unique()"
   ]
  },
  {
   "cell_type": "code",
   "execution_count": 5,
   "metadata": {},
   "outputs": [],
   "source": [
    "df_c = df[df['Country'] == 'China' ]"
   ]
  },
  {
   "cell_type": "code",
   "execution_count": 6,
   "metadata": {},
   "outputs": [],
   "source": [
    "df_c = df_c.fillna(df['AverageTemperature'].mean())"
   ]
  },
  {
   "cell_type": "code",
   "execution_count": 7,
   "metadata": {
    "scrolled": true
   },
   "outputs": [
    {
     "data": {
      "text/html": [
       "<div>\n",
       "<style scoped>\n",
       "    .dataframe tbody tr th:only-of-type {\n",
       "        vertical-align: middle;\n",
       "    }\n",
       "\n",
       "    .dataframe tbody tr th {\n",
       "        vertical-align: top;\n",
       "    }\n",
       "\n",
       "    .dataframe thead th {\n",
       "        text-align: right;\n",
       "    }\n",
       "</style>\n",
       "<table border=\"1\" class=\"dataframe\">\n",
       "  <thead>\n",
       "    <tr style=\"text-align: right;\">\n",
       "      <th></th>\n",
       "      <th>dt</th>\n",
       "      <th>AverageTemperature</th>\n",
       "      <th>AverageTemperatureUncertainty</th>\n",
       "      <th>Country</th>\n",
       "    </tr>\n",
       "  </thead>\n",
       "  <tbody>\n",
       "    <tr>\n",
       "      <th>110149</th>\n",
       "      <td>1820-08-01</td>\n",
       "      <td>16.684000</td>\n",
       "      <td>1.978000</td>\n",
       "      <td>China</td>\n",
       "    </tr>\n",
       "    <tr>\n",
       "      <th>110150</th>\n",
       "      <td>1820-09-01</td>\n",
       "      <td>13.292000</td>\n",
       "      <td>1.555000</td>\n",
       "      <td>China</td>\n",
       "    </tr>\n",
       "    <tr>\n",
       "      <th>110151</th>\n",
       "      <td>1820-10-01</td>\n",
       "      <td>5.624000</td>\n",
       "      <td>1.383000</td>\n",
       "      <td>China</td>\n",
       "    </tr>\n",
       "    <tr>\n",
       "      <th>110152</th>\n",
       "      <td>1820-11-01</td>\n",
       "      <td>-1.981000</td>\n",
       "      <td>1.340000</td>\n",
       "      <td>China</td>\n",
       "    </tr>\n",
       "    <tr>\n",
       "      <th>110153</th>\n",
       "      <td>1820-12-01</td>\n",
       "      <td>-8.551000</td>\n",
       "      <td>1.508000</td>\n",
       "      <td>China</td>\n",
       "    </tr>\n",
       "    <tr>\n",
       "      <th>110154</th>\n",
       "      <td>1821-01-01</td>\n",
       "      <td>-7.469000</td>\n",
       "      <td>1.909000</td>\n",
       "      <td>China</td>\n",
       "    </tr>\n",
       "    <tr>\n",
       "      <th>110155</th>\n",
       "      <td>1821-02-01</td>\n",
       "      <td>-4.029000</td>\n",
       "      <td>2.170000</td>\n",
       "      <td>China</td>\n",
       "    </tr>\n",
       "    <tr>\n",
       "      <th>110156</th>\n",
       "      <td>1821-03-01</td>\n",
       "      <td>1.381000</td>\n",
       "      <td>1.366000</td>\n",
       "      <td>China</td>\n",
       "    </tr>\n",
       "    <tr>\n",
       "      <th>110157</th>\n",
       "      <td>1821-04-01</td>\n",
       "      <td>7.450000</td>\n",
       "      <td>1.660000</td>\n",
       "      <td>China</td>\n",
       "    </tr>\n",
       "    <tr>\n",
       "      <th>110158</th>\n",
       "      <td>1821-05-01</td>\n",
       "      <td>13.463000</td>\n",
       "      <td>1.458000</td>\n",
       "      <td>China</td>\n",
       "    </tr>\n",
       "    <tr>\n",
       "      <th>110159</th>\n",
       "      <td>1821-06-01</td>\n",
       "      <td>16.799000</td>\n",
       "      <td>1.745000</td>\n",
       "      <td>China</td>\n",
       "    </tr>\n",
       "    <tr>\n",
       "      <th>110160</th>\n",
       "      <td>1821-07-01</td>\n",
       "      <td>18.608000</td>\n",
       "      <td>1.760000</td>\n",
       "      <td>China</td>\n",
       "    </tr>\n",
       "    <tr>\n",
       "      <th>110161</th>\n",
       "      <td>1821-08-01</td>\n",
       "      <td>18.011000</td>\n",
       "      <td>1.446000</td>\n",
       "      <td>China</td>\n",
       "    </tr>\n",
       "    <tr>\n",
       "      <th>110162</th>\n",
       "      <td>1821-09-01</td>\n",
       "      <td>12.107000</td>\n",
       "      <td>1.514000</td>\n",
       "      <td>China</td>\n",
       "    </tr>\n",
       "    <tr>\n",
       "      <th>110163</th>\n",
       "      <td>1821-10-01</td>\n",
       "      <td>6.414000</td>\n",
       "      <td>1.351000</td>\n",
       "      <td>China</td>\n",
       "    </tr>\n",
       "    <tr>\n",
       "      <th>110164</th>\n",
       "      <td>1821-11-01</td>\n",
       "      <td>-0.304000</td>\n",
       "      <td>2.165000</td>\n",
       "      <td>China</td>\n",
       "    </tr>\n",
       "    <tr>\n",
       "      <th>110165</th>\n",
       "      <td>1821-12-01</td>\n",
       "      <td>-7.021000</td>\n",
       "      <td>1.625000</td>\n",
       "      <td>China</td>\n",
       "    </tr>\n",
       "    <tr>\n",
       "      <th>110166</th>\n",
       "      <td>1822-01-01</td>\n",
       "      <td>-8.174000</td>\n",
       "      <td>1.876000</td>\n",
       "      <td>China</td>\n",
       "    </tr>\n",
       "    <tr>\n",
       "      <th>110167</th>\n",
       "      <td>1822-02-01</td>\n",
       "      <td>-3.866000</td>\n",
       "      <td>1.855000</td>\n",
       "      <td>China</td>\n",
       "    </tr>\n",
       "    <tr>\n",
       "      <th>110168</th>\n",
       "      <td>1822-03-01</td>\n",
       "      <td>3.924000</td>\n",
       "      <td>1.670000</td>\n",
       "      <td>China</td>\n",
       "    </tr>\n",
       "    <tr>\n",
       "      <th>110169</th>\n",
       "      <td>1822-04-01</td>\n",
       "      <td>7.910000</td>\n",
       "      <td>1.559000</td>\n",
       "      <td>China</td>\n",
       "    </tr>\n",
       "    <tr>\n",
       "      <th>110170</th>\n",
       "      <td>1822-05-01</td>\n",
       "      <td>12.932000</td>\n",
       "      <td>1.443000</td>\n",
       "      <td>China</td>\n",
       "    </tr>\n",
       "    <tr>\n",
       "      <th>110171</th>\n",
       "      <td>1822-06-01</td>\n",
       "      <td>17.335000</td>\n",
       "      <td>1.386000</td>\n",
       "      <td>China</td>\n",
       "    </tr>\n",
       "    <tr>\n",
       "      <th>110172</th>\n",
       "      <td>1822-07-01</td>\n",
       "      <td>19.751000</td>\n",
       "      <td>1.446000</td>\n",
       "      <td>China</td>\n",
       "    </tr>\n",
       "    <tr>\n",
       "      <th>110173</th>\n",
       "      <td>1822-08-01</td>\n",
       "      <td>17.994000</td>\n",
       "      <td>1.865000</td>\n",
       "      <td>China</td>\n",
       "    </tr>\n",
       "    <tr>\n",
       "      <th>110174</th>\n",
       "      <td>1822-09-01</td>\n",
       "      <td>12.820000</td>\n",
       "      <td>1.606000</td>\n",
       "      <td>China</td>\n",
       "    </tr>\n",
       "    <tr>\n",
       "      <th>110175</th>\n",
       "      <td>1822-10-01</td>\n",
       "      <td>5.925000</td>\n",
       "      <td>1.376000</td>\n",
       "      <td>China</td>\n",
       "    </tr>\n",
       "    <tr>\n",
       "      <th>110176</th>\n",
       "      <td>1822-11-01</td>\n",
       "      <td>-1.745000</td>\n",
       "      <td>1.570000</td>\n",
       "      <td>China</td>\n",
       "    </tr>\n",
       "    <tr>\n",
       "      <th>110177</th>\n",
       "      <td>1822-12-01</td>\n",
       "      <td>-8.709000</td>\n",
       "      <td>2.030000</td>\n",
       "      <td>China</td>\n",
       "    </tr>\n",
       "    <tr>\n",
       "      <th>110178</th>\n",
       "      <td>1823-01-01</td>\n",
       "      <td>-9.109000</td>\n",
       "      <td>1.478000</td>\n",
       "      <td>China</td>\n",
       "    </tr>\n",
       "    <tr>\n",
       "      <th>...</th>\n",
       "      <td>...</td>\n",
       "      <td>...</td>\n",
       "      <td>...</td>\n",
       "      <td>...</td>\n",
       "    </tr>\n",
       "    <tr>\n",
       "      <th>112437</th>\n",
       "      <td>2011-04-01</td>\n",
       "      <td>9.503000</td>\n",
       "      <td>0.148000</td>\n",
       "      <td>China</td>\n",
       "    </tr>\n",
       "    <tr>\n",
       "      <th>112438</th>\n",
       "      <td>2011-05-01</td>\n",
       "      <td>14.274000</td>\n",
       "      <td>0.204000</td>\n",
       "      <td>China</td>\n",
       "    </tr>\n",
       "    <tr>\n",
       "      <th>112439</th>\n",
       "      <td>2011-06-01</td>\n",
       "      <td>18.730000</td>\n",
       "      <td>0.213000</td>\n",
       "      <td>China</td>\n",
       "    </tr>\n",
       "    <tr>\n",
       "      <th>112440</th>\n",
       "      <td>2011-07-01</td>\n",
       "      <td>20.449000</td>\n",
       "      <td>0.170000</td>\n",
       "      <td>China</td>\n",
       "    </tr>\n",
       "    <tr>\n",
       "      <th>112441</th>\n",
       "      <td>2011-08-01</td>\n",
       "      <td>19.623000</td>\n",
       "      <td>0.129000</td>\n",
       "      <td>China</td>\n",
       "    </tr>\n",
       "    <tr>\n",
       "      <th>112442</th>\n",
       "      <td>2011-09-01</td>\n",
       "      <td>14.466000</td>\n",
       "      <td>0.182000</td>\n",
       "      <td>China</td>\n",
       "    </tr>\n",
       "    <tr>\n",
       "      <th>112443</th>\n",
       "      <td>2011-10-01</td>\n",
       "      <td>8.493000</td>\n",
       "      <td>0.160000</td>\n",
       "      <td>China</td>\n",
       "    </tr>\n",
       "    <tr>\n",
       "      <th>112444</th>\n",
       "      <td>2011-11-01</td>\n",
       "      <td>1.891000</td>\n",
       "      <td>0.142000</td>\n",
       "      <td>China</td>\n",
       "    </tr>\n",
       "    <tr>\n",
       "      <th>112445</th>\n",
       "      <td>2011-12-01</td>\n",
       "      <td>-6.215000</td>\n",
       "      <td>0.260000</td>\n",
       "      <td>China</td>\n",
       "    </tr>\n",
       "    <tr>\n",
       "      <th>112446</th>\n",
       "      <td>2012-01-01</td>\n",
       "      <td>-9.344000</td>\n",
       "      <td>0.194000</td>\n",
       "      <td>China</td>\n",
       "    </tr>\n",
       "    <tr>\n",
       "      <th>112447</th>\n",
       "      <td>2012-02-01</td>\n",
       "      <td>-5.193000</td>\n",
       "      <td>0.202000</td>\n",
       "      <td>China</td>\n",
       "    </tr>\n",
       "    <tr>\n",
       "      <th>112448</th>\n",
       "      <td>2012-03-01</td>\n",
       "      <td>1.666000</td>\n",
       "      <td>0.153000</td>\n",
       "      <td>China</td>\n",
       "    </tr>\n",
       "    <tr>\n",
       "      <th>112449</th>\n",
       "      <td>2012-04-01</td>\n",
       "      <td>9.736000</td>\n",
       "      <td>0.251000</td>\n",
       "      <td>China</td>\n",
       "    </tr>\n",
       "    <tr>\n",
       "      <th>112450</th>\n",
       "      <td>2012-05-01</td>\n",
       "      <td>15.090000</td>\n",
       "      <td>0.219000</td>\n",
       "      <td>China</td>\n",
       "    </tr>\n",
       "    <tr>\n",
       "      <th>112451</th>\n",
       "      <td>2012-06-01</td>\n",
       "      <td>18.236000</td>\n",
       "      <td>0.259000</td>\n",
       "      <td>China</td>\n",
       "    </tr>\n",
       "    <tr>\n",
       "      <th>112452</th>\n",
       "      <td>2012-07-01</td>\n",
       "      <td>20.389000</td>\n",
       "      <td>0.276000</td>\n",
       "      <td>China</td>\n",
       "    </tr>\n",
       "    <tr>\n",
       "      <th>112453</th>\n",
       "      <td>2012-08-01</td>\n",
       "      <td>19.458000</td>\n",
       "      <td>0.281000</td>\n",
       "      <td>China</td>\n",
       "    </tr>\n",
       "    <tr>\n",
       "      <th>112454</th>\n",
       "      <td>2012-09-01</td>\n",
       "      <td>14.479000</td>\n",
       "      <td>0.306000</td>\n",
       "      <td>China</td>\n",
       "    </tr>\n",
       "    <tr>\n",
       "      <th>112455</th>\n",
       "      <td>2012-10-01</td>\n",
       "      <td>7.684000</td>\n",
       "      <td>0.349000</td>\n",
       "      <td>China</td>\n",
       "    </tr>\n",
       "    <tr>\n",
       "      <th>112456</th>\n",
       "      <td>2012-11-01</td>\n",
       "      <td>-0.254000</td>\n",
       "      <td>0.330000</td>\n",
       "      <td>China</td>\n",
       "    </tr>\n",
       "    <tr>\n",
       "      <th>112457</th>\n",
       "      <td>2012-12-01</td>\n",
       "      <td>-7.022000</td>\n",
       "      <td>0.339000</td>\n",
       "      <td>China</td>\n",
       "    </tr>\n",
       "    <tr>\n",
       "      <th>112458</th>\n",
       "      <td>2013-01-01</td>\n",
       "      <td>-8.137000</td>\n",
       "      <td>0.369000</td>\n",
       "      <td>China</td>\n",
       "    </tr>\n",
       "    <tr>\n",
       "      <th>112459</th>\n",
       "      <td>2013-02-01</td>\n",
       "      <td>-3.812000</td>\n",
       "      <td>0.385000</td>\n",
       "      <td>China</td>\n",
       "    </tr>\n",
       "    <tr>\n",
       "      <th>112460</th>\n",
       "      <td>2013-03-01</td>\n",
       "      <td>3.819000</td>\n",
       "      <td>0.311000</td>\n",
       "      <td>China</td>\n",
       "    </tr>\n",
       "    <tr>\n",
       "      <th>112461</th>\n",
       "      <td>2013-04-01</td>\n",
       "      <td>8.577000</td>\n",
       "      <td>0.243000</td>\n",
       "      <td>China</td>\n",
       "    </tr>\n",
       "    <tr>\n",
       "      <th>112462</th>\n",
       "      <td>2013-05-01</td>\n",
       "      <td>14.824000</td>\n",
       "      <td>0.171000</td>\n",
       "      <td>China</td>\n",
       "    </tr>\n",
       "    <tr>\n",
       "      <th>112463</th>\n",
       "      <td>2013-06-01</td>\n",
       "      <td>18.636000</td>\n",
       "      <td>0.238000</td>\n",
       "      <td>China</td>\n",
       "    </tr>\n",
       "    <tr>\n",
       "      <th>112464</th>\n",
       "      <td>2013-07-01</td>\n",
       "      <td>20.482000</td>\n",
       "      <td>0.153000</td>\n",
       "      <td>China</td>\n",
       "    </tr>\n",
       "    <tr>\n",
       "      <th>112465</th>\n",
       "      <td>2013-08-01</td>\n",
       "      <td>19.971000</td>\n",
       "      <td>0.223000</td>\n",
       "      <td>China</td>\n",
       "    </tr>\n",
       "    <tr>\n",
       "      <th>112466</th>\n",
       "      <td>2013-09-01</td>\n",
       "      <td>17.193354</td>\n",
       "      <td>17.193354</td>\n",
       "      <td>China</td>\n",
       "    </tr>\n",
       "  </tbody>\n",
       "</table>\n",
       "<p>2318 rows × 4 columns</p>\n",
       "</div>"
      ],
      "text/plain": [
       "                dt  AverageTemperature  AverageTemperatureUncertainty Country\n",
       "110149  1820-08-01           16.684000                       1.978000   China\n",
       "110150  1820-09-01           13.292000                       1.555000   China\n",
       "110151  1820-10-01            5.624000                       1.383000   China\n",
       "110152  1820-11-01           -1.981000                       1.340000   China\n",
       "110153  1820-12-01           -8.551000                       1.508000   China\n",
       "110154  1821-01-01           -7.469000                       1.909000   China\n",
       "110155  1821-02-01           -4.029000                       2.170000   China\n",
       "110156  1821-03-01            1.381000                       1.366000   China\n",
       "110157  1821-04-01            7.450000                       1.660000   China\n",
       "110158  1821-05-01           13.463000                       1.458000   China\n",
       "110159  1821-06-01           16.799000                       1.745000   China\n",
       "110160  1821-07-01           18.608000                       1.760000   China\n",
       "110161  1821-08-01           18.011000                       1.446000   China\n",
       "110162  1821-09-01           12.107000                       1.514000   China\n",
       "110163  1821-10-01            6.414000                       1.351000   China\n",
       "110164  1821-11-01           -0.304000                       2.165000   China\n",
       "110165  1821-12-01           -7.021000                       1.625000   China\n",
       "110166  1822-01-01           -8.174000                       1.876000   China\n",
       "110167  1822-02-01           -3.866000                       1.855000   China\n",
       "110168  1822-03-01            3.924000                       1.670000   China\n",
       "110169  1822-04-01            7.910000                       1.559000   China\n",
       "110170  1822-05-01           12.932000                       1.443000   China\n",
       "110171  1822-06-01           17.335000                       1.386000   China\n",
       "110172  1822-07-01           19.751000                       1.446000   China\n",
       "110173  1822-08-01           17.994000                       1.865000   China\n",
       "110174  1822-09-01           12.820000                       1.606000   China\n",
       "110175  1822-10-01            5.925000                       1.376000   China\n",
       "110176  1822-11-01           -1.745000                       1.570000   China\n",
       "110177  1822-12-01           -8.709000                       2.030000   China\n",
       "110178  1823-01-01           -9.109000                       1.478000   China\n",
       "...            ...                 ...                            ...     ...\n",
       "112437  2011-04-01            9.503000                       0.148000   China\n",
       "112438  2011-05-01           14.274000                       0.204000   China\n",
       "112439  2011-06-01           18.730000                       0.213000   China\n",
       "112440  2011-07-01           20.449000                       0.170000   China\n",
       "112441  2011-08-01           19.623000                       0.129000   China\n",
       "112442  2011-09-01           14.466000                       0.182000   China\n",
       "112443  2011-10-01            8.493000                       0.160000   China\n",
       "112444  2011-11-01            1.891000                       0.142000   China\n",
       "112445  2011-12-01           -6.215000                       0.260000   China\n",
       "112446  2012-01-01           -9.344000                       0.194000   China\n",
       "112447  2012-02-01           -5.193000                       0.202000   China\n",
       "112448  2012-03-01            1.666000                       0.153000   China\n",
       "112449  2012-04-01            9.736000                       0.251000   China\n",
       "112450  2012-05-01           15.090000                       0.219000   China\n",
       "112451  2012-06-01           18.236000                       0.259000   China\n",
       "112452  2012-07-01           20.389000                       0.276000   China\n",
       "112453  2012-08-01           19.458000                       0.281000   China\n",
       "112454  2012-09-01           14.479000                       0.306000   China\n",
       "112455  2012-10-01            7.684000                       0.349000   China\n",
       "112456  2012-11-01           -0.254000                       0.330000   China\n",
       "112457  2012-12-01           -7.022000                       0.339000   China\n",
       "112458  2013-01-01           -8.137000                       0.369000   China\n",
       "112459  2013-02-01           -3.812000                       0.385000   China\n",
       "112460  2013-03-01            3.819000                       0.311000   China\n",
       "112461  2013-04-01            8.577000                       0.243000   China\n",
       "112462  2013-05-01           14.824000                       0.171000   China\n",
       "112463  2013-06-01           18.636000                       0.238000   China\n",
       "112464  2013-07-01           20.482000                       0.153000   China\n",
       "112465  2013-08-01           19.971000                       0.223000   China\n",
       "112466  2013-09-01           17.193354                      17.193354   China\n",
       "\n",
       "[2318 rows x 4 columns]"
      ]
     },
     "execution_count": 7,
     "metadata": {},
     "output_type": "execute_result"
    }
   ],
   "source": [
    "df_c"
   ]
  },
  {
   "cell_type": "code",
   "execution_count": 8,
   "metadata": {},
   "outputs": [],
   "source": [
    "array1 = np.array(df_c[['dt', 'AverageTemperature']])\n",
    "array1 = array1[5:]"
   ]
  },
  {
   "cell_type": "code",
   "execution_count": 9,
   "metadata": {},
   "outputs": [
    {
     "data": {
      "text/plain": [
       "(2313, 2)"
      ]
     },
     "execution_count": 9,
     "metadata": {},
     "output_type": "execute_result"
    }
   ],
   "source": [
    "array1.shape"
   ]
  },
  {
   "cell_type": "code",
   "execution_count": 10,
   "metadata": {},
   "outputs": [
    {
     "data": {
      "text/plain": [
       "array([['1821-01-01', -7.4689999999999985],\n",
       "       ['1821-02-01', -4.029],\n",
       "       ['1821-03-01', 1.381],\n",
       "       ...,\n",
       "       ['2013-07-01', 20.482],\n",
       "       ['2013-08-01', 19.971],\n",
       "       ['2013-09-01', 17.19335423293611]], dtype=object)"
      ]
     },
     "execution_count": 10,
     "metadata": {},
     "output_type": "execute_result"
    }
   ],
   "source": [
    "array1"
   ]
  },
  {
   "cell_type": "code",
   "execution_count": 11,
   "metadata": {},
   "outputs": [
    {
     "data": {
      "text/plain": [
       "(192, 2)"
      ]
     },
     "execution_count": 11,
     "metadata": {},
     "output_type": "execute_result"
    }
   ],
   "source": [
    "data = pd.DataFrame()\n",
    "data['Year'] = range(1821,2013)\n",
    "data['AvgTemp'] = None\n",
    "data.shape"
   ]
  },
  {
   "cell_type": "code",
   "execution_count": 12,
   "metadata": {},
   "outputs": [
    {
     "data": {
      "text/html": [
       "<div>\n",
       "<style scoped>\n",
       "    .dataframe tbody tr th:only-of-type {\n",
       "        vertical-align: middle;\n",
       "    }\n",
       "\n",
       "    .dataframe tbody tr th {\n",
       "        vertical-align: top;\n",
       "    }\n",
       "\n",
       "    .dataframe thead th {\n",
       "        text-align: right;\n",
       "    }\n",
       "</style>\n",
       "<table border=\"1\" class=\"dataframe\">\n",
       "  <thead>\n",
       "    <tr style=\"text-align: right;\">\n",
       "      <th></th>\n",
       "      <th>Year</th>\n",
       "      <th>AvgTemp</th>\n",
       "    </tr>\n",
       "  </thead>\n",
       "  <tbody>\n",
       "    <tr>\n",
       "      <th>0</th>\n",
       "      <td>1821</td>\n",
       "      <td>None</td>\n",
       "    </tr>\n",
       "    <tr>\n",
       "      <th>1</th>\n",
       "      <td>1822</td>\n",
       "      <td>None</td>\n",
       "    </tr>\n",
       "    <tr>\n",
       "      <th>2</th>\n",
       "      <td>1823</td>\n",
       "      <td>None</td>\n",
       "    </tr>\n",
       "    <tr>\n",
       "      <th>3</th>\n",
       "      <td>1824</td>\n",
       "      <td>None</td>\n",
       "    </tr>\n",
       "    <tr>\n",
       "      <th>4</th>\n",
       "      <td>1825</td>\n",
       "      <td>None</td>\n",
       "    </tr>\n",
       "  </tbody>\n",
       "</table>\n",
       "</div>"
      ],
      "text/plain": [
       "   Year AvgTemp\n",
       "0  1821    None\n",
       "1  1822    None\n",
       "2  1823    None\n",
       "3  1824    None\n",
       "4  1825    None"
      ]
     },
     "execution_count": 12,
     "metadata": {},
     "output_type": "execute_result"
    }
   ],
   "source": [
    "data.head()"
   ]
  },
  {
   "cell_type": "code",
   "execution_count": 13,
   "metadata": {},
   "outputs": [
    {
     "name": "stderr",
     "output_type": "stream",
     "text": [
      "D:\\Anaconda\\lib\\site-packages\\ipykernel_launcher.py:5: SettingWithCopyWarning: \n",
      "A value is trying to be set on a copy of a slice from a DataFrame\n",
      "\n",
      "See the caveats in the documentation: http://pandas.pydata.org/pandas-docs/stable/indexing.html#indexing-view-versus-copy\n",
      "  \"\"\"\n"
     ]
    }
   ],
   "source": [
    "j = 0\n",
    "i = 0\n",
    "while (i < 192):\n",
    "    while (j < 2313):\n",
    "        data[\"AvgTemp\"][i] = array1[j:j+12][:,1].mean()\n",
    "        i = i+1\n",
    "        j = j+12\n",
    "        break"
   ]
  },
  {
   "cell_type": "code",
   "execution_count": 14,
   "metadata": {
    "scrolled": true
   },
   "outputs": [
    {
     "data": {
      "text/html": [
       "<div>\n",
       "<style scoped>\n",
       "    .dataframe tbody tr th:only-of-type {\n",
       "        vertical-align: middle;\n",
       "    }\n",
       "\n",
       "    .dataframe tbody tr th {\n",
       "        vertical-align: top;\n",
       "    }\n",
       "\n",
       "    .dataframe thead th {\n",
       "        text-align: right;\n",
       "    }\n",
       "</style>\n",
       "<table border=\"1\" class=\"dataframe\">\n",
       "  <thead>\n",
       "    <tr style=\"text-align: right;\">\n",
       "      <th></th>\n",
       "      <th>Year</th>\n",
       "      <th>AvgTemp</th>\n",
       "    </tr>\n",
       "  </thead>\n",
       "  <tbody>\n",
       "    <tr>\n",
       "      <th>0</th>\n",
       "      <td>1821</td>\n",
       "      <td>6.28417</td>\n",
       "    </tr>\n",
       "    <tr>\n",
       "      <th>1</th>\n",
       "      <td>1822</td>\n",
       "      <td>6.34142</td>\n",
       "    </tr>\n",
       "    <tr>\n",
       "      <th>2</th>\n",
       "      <td>1823</td>\n",
       "      <td>7.87178</td>\n",
       "    </tr>\n",
       "    <tr>\n",
       "      <th>3</th>\n",
       "      <td>1824</td>\n",
       "      <td>17.1934</td>\n",
       "    </tr>\n",
       "    <tr>\n",
       "      <th>4</th>\n",
       "      <td>1825</td>\n",
       "      <td>17.1934</td>\n",
       "    </tr>\n",
       "    <tr>\n",
       "      <th>5</th>\n",
       "      <td>1826</td>\n",
       "      <td>17.1934</td>\n",
       "    </tr>\n",
       "    <tr>\n",
       "      <th>6</th>\n",
       "      <td>1827</td>\n",
       "      <td>17.1934</td>\n",
       "    </tr>\n",
       "    <tr>\n",
       "      <th>7</th>\n",
       "      <td>1828</td>\n",
       "      <td>17.1934</td>\n",
       "    </tr>\n",
       "    <tr>\n",
       "      <th>8</th>\n",
       "      <td>1829</td>\n",
       "      <td>17.1934</td>\n",
       "    </tr>\n",
       "    <tr>\n",
       "      <th>9</th>\n",
       "      <td>1830</td>\n",
       "      <td>17.1934</td>\n",
       "    </tr>\n",
       "    <tr>\n",
       "      <th>10</th>\n",
       "      <td>1831</td>\n",
       "      <td>17.1934</td>\n",
       "    </tr>\n",
       "    <tr>\n",
       "      <th>11</th>\n",
       "      <td>1832</td>\n",
       "      <td>17.1934</td>\n",
       "    </tr>\n",
       "    <tr>\n",
       "      <th>12</th>\n",
       "      <td>1833</td>\n",
       "      <td>6.03933</td>\n",
       "    </tr>\n",
       "    <tr>\n",
       "      <th>13</th>\n",
       "      <td>1834</td>\n",
       "      <td>6.26817</td>\n",
       "    </tr>\n",
       "    <tr>\n",
       "      <th>14</th>\n",
       "      <td>1835</td>\n",
       "      <td>5.43425</td>\n",
       "    </tr>\n",
       "    <tr>\n",
       "      <th>15</th>\n",
       "      <td>1836</td>\n",
       "      <td>6.35045</td>\n",
       "    </tr>\n",
       "    <tr>\n",
       "      <th>16</th>\n",
       "      <td>1837</td>\n",
       "      <td>12.6651</td>\n",
       "    </tr>\n",
       "    <tr>\n",
       "      <th>17</th>\n",
       "      <td>1838</td>\n",
       "      <td>5.715</td>\n",
       "    </tr>\n",
       "    <tr>\n",
       "      <th>18</th>\n",
       "      <td>1839</td>\n",
       "      <td>5.51908</td>\n",
       "    </tr>\n",
       "    <tr>\n",
       "      <th>19</th>\n",
       "      <td>1840</td>\n",
       "      <td>6.01858</td>\n",
       "    </tr>\n",
       "    <tr>\n",
       "      <th>20</th>\n",
       "      <td>1841</td>\n",
       "      <td>5.51242</td>\n",
       "    </tr>\n",
       "    <tr>\n",
       "      <th>21</th>\n",
       "      <td>1842</td>\n",
       "      <td>6.2785</td>\n",
       "    </tr>\n",
       "    <tr>\n",
       "      <th>22</th>\n",
       "      <td>1843</td>\n",
       "      <td>6.41392</td>\n",
       "    </tr>\n",
       "    <tr>\n",
       "      <th>23</th>\n",
       "      <td>1844</td>\n",
       "      <td>6.0515</td>\n",
       "    </tr>\n",
       "    <tr>\n",
       "      <th>24</th>\n",
       "      <td>1845</td>\n",
       "      <td>6.023</td>\n",
       "    </tr>\n",
       "    <tr>\n",
       "      <th>25</th>\n",
       "      <td>1846</td>\n",
       "      <td>6.5875</td>\n",
       "    </tr>\n",
       "    <tr>\n",
       "      <th>26</th>\n",
       "      <td>1847</td>\n",
       "      <td>6.25708</td>\n",
       "    </tr>\n",
       "    <tr>\n",
       "      <th>27</th>\n",
       "      <td>1848</td>\n",
       "      <td>5.93975</td>\n",
       "    </tr>\n",
       "    <tr>\n",
       "      <th>28</th>\n",
       "      <td>1849</td>\n",
       "      <td>6.10483</td>\n",
       "    </tr>\n",
       "    <tr>\n",
       "      <th>29</th>\n",
       "      <td>1850</td>\n",
       "      <td>5.90717</td>\n",
       "    </tr>\n",
       "    <tr>\n",
       "      <th>...</th>\n",
       "      <td>...</td>\n",
       "      <td>...</td>\n",
       "    </tr>\n",
       "    <tr>\n",
       "      <th>162</th>\n",
       "      <td>1983</td>\n",
       "      <td>6.92508</td>\n",
       "    </tr>\n",
       "    <tr>\n",
       "      <th>163</th>\n",
       "      <td>1984</td>\n",
       "      <td>6.51792</td>\n",
       "    </tr>\n",
       "    <tr>\n",
       "      <th>164</th>\n",
       "      <td>1985</td>\n",
       "      <td>6.74025</td>\n",
       "    </tr>\n",
       "    <tr>\n",
       "      <th>165</th>\n",
       "      <td>1986</td>\n",
       "      <td>6.87017</td>\n",
       "    </tr>\n",
       "    <tr>\n",
       "      <th>166</th>\n",
       "      <td>1987</td>\n",
       "      <td>7.249</td>\n",
       "    </tr>\n",
       "    <tr>\n",
       "      <th>167</th>\n",
       "      <td>1988</td>\n",
       "      <td>7.22083</td>\n",
       "    </tr>\n",
       "    <tr>\n",
       "      <th>168</th>\n",
       "      <td>1989</td>\n",
       "      <td>7.23975</td>\n",
       "    </tr>\n",
       "    <tr>\n",
       "      <th>169</th>\n",
       "      <td>1990</td>\n",
       "      <td>7.636</td>\n",
       "    </tr>\n",
       "    <tr>\n",
       "      <th>170</th>\n",
       "      <td>1991</td>\n",
       "      <td>7.09717</td>\n",
       "    </tr>\n",
       "    <tr>\n",
       "      <th>171</th>\n",
       "      <td>1992</td>\n",
       "      <td>6.85842</td>\n",
       "    </tr>\n",
       "    <tr>\n",
       "      <th>172</th>\n",
       "      <td>1993</td>\n",
       "      <td>6.91942</td>\n",
       "    </tr>\n",
       "    <tr>\n",
       "      <th>173</th>\n",
       "      <td>1994</td>\n",
       "      <td>7.496</td>\n",
       "    </tr>\n",
       "    <tr>\n",
       "      <th>174</th>\n",
       "      <td>1995</td>\n",
       "      <td>7.21158</td>\n",
       "    </tr>\n",
       "    <tr>\n",
       "      <th>175</th>\n",
       "      <td>1996</td>\n",
       "      <td>6.96267</td>\n",
       "    </tr>\n",
       "    <tr>\n",
       "      <th>176</th>\n",
       "      <td>1997</td>\n",
       "      <td>7.36733</td>\n",
       "    </tr>\n",
       "    <tr>\n",
       "      <th>177</th>\n",
       "      <td>1998</td>\n",
       "      <td>8.05183</td>\n",
       "    </tr>\n",
       "    <tr>\n",
       "      <th>178</th>\n",
       "      <td>1999</td>\n",
       "      <td>7.84025</td>\n",
       "    </tr>\n",
       "    <tr>\n",
       "      <th>179</th>\n",
       "      <td>2000</td>\n",
       "      <td>7.23808</td>\n",
       "    </tr>\n",
       "    <tr>\n",
       "      <th>180</th>\n",
       "      <td>2001</td>\n",
       "      <td>7.59642</td>\n",
       "    </tr>\n",
       "    <tr>\n",
       "      <th>181</th>\n",
       "      <td>2002</td>\n",
       "      <td>7.79567</td>\n",
       "    </tr>\n",
       "    <tr>\n",
       "      <th>182</th>\n",
       "      <td>2003</td>\n",
       "      <td>7.522</td>\n",
       "    </tr>\n",
       "    <tr>\n",
       "      <th>183</th>\n",
       "      <td>2004</td>\n",
       "      <td>7.71275</td>\n",
       "    </tr>\n",
       "    <tr>\n",
       "      <th>184</th>\n",
       "      <td>2005</td>\n",
       "      <td>7.4135</td>\n",
       "    </tr>\n",
       "    <tr>\n",
       "      <th>185</th>\n",
       "      <td>2006</td>\n",
       "      <td>7.948</td>\n",
       "    </tr>\n",
       "    <tr>\n",
       "      <th>186</th>\n",
       "      <td>2007</td>\n",
       "      <td>8.12675</td>\n",
       "    </tr>\n",
       "    <tr>\n",
       "      <th>187</th>\n",
       "      <td>2008</td>\n",
       "      <td>7.56608</td>\n",
       "    </tr>\n",
       "    <tr>\n",
       "      <th>188</th>\n",
       "      <td>2009</td>\n",
       "      <td>7.8095</td>\n",
       "    </tr>\n",
       "    <tr>\n",
       "      <th>189</th>\n",
       "      <td>2010</td>\n",
       "      <td>7.54842</td>\n",
       "    </tr>\n",
       "    <tr>\n",
       "      <th>190</th>\n",
       "      <td>2011</td>\n",
       "      <td>7.35708</td>\n",
       "    </tr>\n",
       "    <tr>\n",
       "      <th>191</th>\n",
       "      <td>2012</td>\n",
       "      <td>7.07708</td>\n",
       "    </tr>\n",
       "  </tbody>\n",
       "</table>\n",
       "<p>192 rows × 2 columns</p>\n",
       "</div>"
      ],
      "text/plain": [
       "     Year  AvgTemp\n",
       "0    1821  6.28417\n",
       "1    1822  6.34142\n",
       "2    1823  7.87178\n",
       "3    1824  17.1934\n",
       "4    1825  17.1934\n",
       "5    1826  17.1934\n",
       "6    1827  17.1934\n",
       "7    1828  17.1934\n",
       "8    1829  17.1934\n",
       "9    1830  17.1934\n",
       "10   1831  17.1934\n",
       "11   1832  17.1934\n",
       "12   1833  6.03933\n",
       "13   1834  6.26817\n",
       "14   1835  5.43425\n",
       "15   1836  6.35045\n",
       "16   1837  12.6651\n",
       "17   1838    5.715\n",
       "18   1839  5.51908\n",
       "19   1840  6.01858\n",
       "20   1841  5.51242\n",
       "21   1842   6.2785\n",
       "22   1843  6.41392\n",
       "23   1844   6.0515\n",
       "24   1845    6.023\n",
       "25   1846   6.5875\n",
       "26   1847  6.25708\n",
       "27   1848  5.93975\n",
       "28   1849  6.10483\n",
       "29   1850  5.90717\n",
       "..    ...      ...\n",
       "162  1983  6.92508\n",
       "163  1984  6.51792\n",
       "164  1985  6.74025\n",
       "165  1986  6.87017\n",
       "166  1987    7.249\n",
       "167  1988  7.22083\n",
       "168  1989  7.23975\n",
       "169  1990    7.636\n",
       "170  1991  7.09717\n",
       "171  1992  6.85842\n",
       "172  1993  6.91942\n",
       "173  1994    7.496\n",
       "174  1995  7.21158\n",
       "175  1996  6.96267\n",
       "176  1997  7.36733\n",
       "177  1998  8.05183\n",
       "178  1999  7.84025\n",
       "179  2000  7.23808\n",
       "180  2001  7.59642\n",
       "181  2002  7.79567\n",
       "182  2003    7.522\n",
       "183  2004  7.71275\n",
       "184  2005   7.4135\n",
       "185  2006    7.948\n",
       "186  2007  8.12675\n",
       "187  2008  7.56608\n",
       "188  2009   7.8095\n",
       "189  2010  7.54842\n",
       "190  2011  7.35708\n",
       "191  2012  7.07708\n",
       "\n",
       "[192 rows x 2 columns]"
      ]
     },
     "execution_count": 14,
     "metadata": {},
     "output_type": "execute_result"
    }
   ],
   "source": [
    "data"
   ]
  },
  {
   "cell_type": "code",
   "execution_count": 15,
   "metadata": {},
   "outputs": [],
   "source": [
    "data1 = data[data['AvgTemp']<10]"
   ]
  },
  {
   "cell_type": "markdown",
   "metadata": {},
   "source": [
    "**It can be seen in the following graph that China has suffered an almost a general increase in it Average temperature.**"
   ]
  },
  {
   "cell_type": "code",
   "execution_count": 16,
   "metadata": {},
   "outputs": [
    {
     "data": {
      "text/plain": [
       "<seaborn.axisgrid.FacetGrid at 0xee668cc7f0>"
      ]
     },
     "execution_count": 16,
     "metadata": {},
     "output_type": "execute_result"
    },
    {
     "data": {
      "image/png": "[encoded data removed]",
      "text/plain": [
       "<Figure size 1080x1080 with 1 Axes>"
      ]
     },
     "metadata": {},
     "output_type": "display_data"
    }
   ],
   "source": [
    "sns.lmplot('Year', 'AvgTemp', data=data1, size = 15, fit_reg = False,scatter_kws={'facecolors':'red'})"
   ]
  },
  {
   "cell_type": "code",
   "execution_count": 17,
   "metadata": {},
   "outputs": [
    {
     "data": {
      "text/plain": [
       "[<matplotlib.lines.Line2D at 0xee5b936588>]"
      ]
     },
     "execution_count": 17,
     "metadata": {},
     "output_type": "execute_result"
    },
    {
     "data": {
      "image/png": "[encoded data removed]",
      "text/plain": [
       "<Figure size 2880x720 with 1 Axes>"
      ]
     },
     "metadata": {},
     "output_type": "display_data"
    }
   ],
   "source": [
    "plt.figure(figsize=(40,10))\n",
    "plt.plot(data1['Year'],data1['AvgTemp'], color='black')"
   ]
  },
  {
   "cell_type": "markdown",
   "metadata": {},
   "source": [
    "# Predictions and Machine Learning"
   ]
  },
  {
   "cell_type": "code",
   "execution_count": 18,
   "metadata": {},
   "outputs": [],
   "source": [
    "from sklearn.cross_validation import train_test_split\n",
    "from sklearn.linear_model import LinearRegression"
   ]
  },
  {
   "cell_type": "code",
   "execution_count": 21,
   "metadata": {},
   "outputs": [
    {
     "data": {
      "text/plain": [
       "(182, 2)"
      ]
     },
     "execution_count": 21,
     "metadata": {},
     "output_type": "execute_result"
    }
   ],
   "source": [
    "data1.shape"
   ]
  },
  {
   "cell_type": "code",
   "execution_count": 22,
   "metadata": {},
   "outputs": [
    {
     "data": {
      "text/html": [
       "<div>\n",
       "<style scoped>\n",
       "    .dataframe tbody tr th:only-of-type {\n",
       "        vertical-align: middle;\n",
       "    }\n",
       "\n",
       "    .dataframe tbody tr th {\n",
       "        vertical-align: top;\n",
       "    }\n",
       "\n",
       "    .dataframe thead th {\n",
       "        text-align: right;\n",
       "    }\n",
       "</style>\n",
       "<table border=\"1\" class=\"dataframe\">\n",
       "  <thead>\n",
       "    <tr style=\"text-align: right;\">\n",
       "      <th></th>\n",
       "      <th>Year</th>\n",
       "      <th>AvgTemp</th>\n",
       "    </tr>\n",
       "  </thead>\n",
       "  <tbody>\n",
       "    <tr>\n",
       "      <th>0</th>\n",
       "      <td>1821</td>\n",
       "      <td>6.28417</td>\n",
       "    </tr>\n",
       "    <tr>\n",
       "      <th>1</th>\n",
       "      <td>1822</td>\n",
       "      <td>6.34142</td>\n",
       "    </tr>\n",
       "    <tr>\n",
       "      <th>2</th>\n",
       "      <td>1823</td>\n",
       "      <td>7.87178</td>\n",
       "    </tr>\n",
       "    <tr>\n",
       "      <th>12</th>\n",
       "      <td>1833</td>\n",
       "      <td>6.03933</td>\n",
       "    </tr>\n",
       "    <tr>\n",
       "      <th>13</th>\n",
       "      <td>1834</td>\n",
       "      <td>6.26817</td>\n",
       "    </tr>\n",
       "  </tbody>\n",
       "</table>\n",
       "</div>"
      ],
      "text/plain": [
       "    Year  AvgTemp\n",
       "0   1821  6.28417\n",
       "1   1822  6.34142\n",
       "2   1823  7.87178\n",
       "12  1833  6.03933\n",
       "13  1834  6.26817"
      ]
     },
     "execution_count": 22,
     "metadata": {},
     "output_type": "execute_result"
    }
   ],
   "source": [
    "data1.head()"
   ]
  },
  {
   "cell_type": "code",
   "execution_count": 26,
   "metadata": {},
   "outputs": [],
   "source": [
    "X = data1['Year']\n",
    "y = data1['AvgTemp']"
   ]
  },
  {
   "cell_type": "code",
   "execution_count": 28,
   "metadata": {},
   "outputs": [
    {
     "name": "stdout",
     "output_type": "stream",
     "text": [
      "(182,)\n",
      "(182,)\n"
     ]
    }
   ],
   "source": [
    "print(X.shape)\n",
    "print(y.shape)"
   ]
  },
  {
   "cell_type": "code",
   "execution_count": 30,
   "metadata": {},
   "outputs": [],
   "source": [
    "X = X.reshape(182,1)\n",
    "y = y.reshape(182,1)"
   ]
  },
  {
   "cell_type": "code",
   "execution_count": 31,
   "metadata": {},
   "outputs": [],
   "source": [
    "X_train, X_test, y_train, y_test = train_test_split(X, y, test_size=0.2, random_state=42)"
   ]
  },
  {
   "cell_type": "code",
   "execution_count": 32,
   "metadata": {},
   "outputs": [
    {
     "name": "stdout",
     "output_type": "stream",
     "text": [
      "(145, 1)\n",
      "(37, 1)\n",
      "(145, 1)\n",
      "(37, 1)\n"
     ]
    }
   ],
   "source": [
    "print(X_train.shape)\n",
    "print(X_test.shape)\n",
    "print(y_train.shape)\n",
    "print(y_test.shape)"
   ]
  },
  {
   "cell_type": "code",
   "execution_count": 33,
   "metadata": {},
   "outputs": [
    {
     "data": {
      "text/plain": [
       "<matplotlib.collections.PathCollection at 0xee686e91d0>"
      ]
     },
     "execution_count": 33,
     "metadata": {},
     "output_type": "execute_result"
    },
    {
     "data": {
      "image/png": "[encoded data removed]",
      "text/plain": [
       "<Figure size 432x288 with 1 Axes>"
      ]
     },
     "metadata": {},
     "output_type": "display_data"
    }
   ],
   "source": [
    "plt.scatter(X_train, y_train)"
   ]
  },
  {
   "cell_type": "code",
   "execution_count": 34,
   "metadata": {},
   "outputs": [
    {
     "data": {
      "text/plain": [
       "<matplotlib.collections.PathCollection at 0xee687624e0>"
      ]
     },
     "execution_count": 34,
     "metadata": {},
     "output_type": "execute_result"
    },
    {
     "data": {
      "image/png": "[encoded data removed]",
      "text/plain": [
       "<Figure size 432x288 with 1 Axes>"
      ]
     },
     "metadata": {},
     "output_type": "display_data"
    }
   ],
   "source": [
    "plt.scatter(X_test, y_test)"
   ]
  },
  {
   "cell_type": "code",
   "execution_count": 35,
   "metadata": {},
   "outputs": [
    {
     "data": {
      "text/plain": [
       "LinearRegression(copy_X=True, fit_intercept=True, n_jobs=1, normalize=False)"
      ]
     },
     "execution_count": 35,
     "metadata": {},
     "output_type": "execute_result"
    }
   ],
   "source": [
    "model = LinearRegression()\n",
    "model.fit(X_train, y_train)"
   ]
  },
  {
   "cell_type": "code",
   "execution_count": 36,
   "metadata": {},
   "outputs": [],
   "source": [
    "y_pred = model.predict(X_test)"
   ]
  },
  {
   "cell_type": "code",
   "execution_count": 40,
   "metadata": {},
   "outputs": [
    {
     "data": {
      "text/plain": [
       "<matplotlib.collections.PathCollection at 0xee68c93a58>"
      ]
     },
     "execution_count": 40,
     "metadata": {},
     "output_type": "execute_result"
    },
    {
     "data": {
      "image/png": "[encoded data removed]",
      "text/plain": [
       "<Figure size 432x288 with 1 Axes>"
      ]
     },
     "metadata": {},
     "output_type": "display_data"
    }
   ],
   "source": [
    "plt.scatter(y_test, y_pred, color='yellow')"
   ]
  },
  {
   "cell_type": "code",
   "execution_count": 41,
   "metadata": {},
   "outputs": [
    {
     "data": {
      "text/plain": [
       "[<matplotlib.lines.Line2D at 0xee5bcaaa20>]"
      ]
     },
     "execution_count": 41,
     "metadata": {},
     "output_type": "execute_result"
    },
    {
     "data": {
      "image/png": "[encoded data removed]",
      "text/plain": [
       "<Figure size 1440x720 with 1 Axes>"
      ]
     },
     "metadata": {},
     "output_type": "display_data"
    }
   ],
   "source": [
    "plt.figure(figsize=(20, 10))\n",
    "plt.xlabel('Year')\n",
    "plt.ylabel(\"Average Temperature\")\n",
    "plt.scatter(X_train, y_train, color = 'red')\n",
    "plt.plot(X_train, model.predict(X_train), color='black')"
   ]
  },
  {
   "cell_type": "code",
   "execution_count": 42,
   "metadata": {},
   "outputs": [
    {
     "data": {
      "text/plain": [
       "array([[5.6842753]])"
      ]
     },
     "execution_count": 42,
     "metadata": {},
     "output_type": "execute_result"
    }
   ],
   "source": [
    "model.predict(1800)"
   ]
  },
  {
   "cell_type": "code",
   "execution_count": 43,
   "metadata": {},
   "outputs": [
    {
     "data": {
      "text/plain": [
       "array([[7.21759142]])"
      ]
     },
     "execution_count": 43,
     "metadata": {},
     "output_type": "execute_result"
    }
   ],
   "source": [
    "model.predict(2000)"
   ]
  },
  {
   "cell_type": "code",
   "execution_count": 44,
   "metadata": {},
   "outputs": [
    {
     "data": {
      "text/plain": [
       "array([[7.37092303]])"
      ]
     },
     "execution_count": 44,
     "metadata": {},
     "output_type": "execute_result"
    }
   ],
   "source": [
    "model.predict(2020)"
   ]
  },
  {
   "cell_type": "code",
   "execution_count": 48,
   "metadata": {},
   "outputs": [
    {
     "data": {
      "text/plain": [
       "array([[7.60092045]])"
      ]
     },
     "execution_count": 48,
     "metadata": {},
     "output_type": "execute_result"
    }
   ],
   "source": [
    "model.predict(2050)"
   ]
  },
  {
   "cell_type": "markdown",
   "metadata": {},
   "source": [
    "**The Average temperature of Chineese Subcontinent will reach almost 8°C by 2050. That's a near 2°C increase in the average temperature of the country in the last 200 or so years.**"
   ]
  },
  {
   "cell_type": "code",
   "execution_count": 49,
   "metadata": {},
   "outputs": [
    {
     "data": {
      "text/plain": [
       "array([[0.00766658]])"
      ]
     },
     "execution_count": 49,
     "metadata": {},
     "output_type": "execute_result"
    }
   ],
   "source": [
    "model.coef_"
   ]
  },
  {
   "cell_type": "code",
   "execution_count": null,
   "metadata": {},
   "outputs": [],
   "source": []
  }
 ],
 "metadata": {
  "kernelspec": {
   "display_name": "Python 3",
   "language": "python",
   "name": "python3"
  },
  "language_info": {
   "codemirror_mode": {
    "name": "ipython",
    "version": 3
   },
   "file_extension": ".py",
   "mimetype": "text/x-python",
   "name": "python",
   "nbconvert_exporter": "python",
   "pygments_lexer": "ipython3",
   "version": "3.6.4"
  }
 },
 "nbformat": 4,
 "nbformat_minor": 2
}
